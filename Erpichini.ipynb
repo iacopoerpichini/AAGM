{
 "cells": [
  {
   "cell_type": "markdown",
   "metadata": {},
   "source": [
    "# Analysis of COVID-19 dataset\n",
    "\n",
    "### **Iacopo Erpichini** e-mail: iacopo.erpichini@stud.unifi.it  \n",
    "### ADVANCED ALGORITHMS AND GRAPH MINING\n",
    "\n",
    "The following work is an alaysis based on data taken from \"Dipartimento della protezione civile Italiana\" ([github](https://github.com/pcm-dpc/COVID-19)) and is used for familiarize with Python 3.7 notebook and [Pandas](https://pandas.pydata.org/) that is a libray used for data analysis.\n",
    "\n",
    "The data are collected based on the infection and the emercency in our country but in this analysis the focus is on two [JSON](https://www.json.org/json-en.html) datasets:\n",
    "- https://github.com/pcm-dpc/COVID-19/blob/master/dati-json/dpc-covid19-ita-province.json\n",
    "- https://github.com/pcm-dpc/COVID-19/blob/master/dati-json/dpc-covid19-ita-regioni.json\n",
    "\n",
    "In particular this two data represent the contagius status in the Italian Regions and Provinces.\n",
    "\n",
    "All the data are explained in details here:\n",
    "    - [Data Format](https://github.com/pcm-dpc/COVID-19/blob/master/dati-andamento-covid19-italia.md)\n",
    "Is very importanto to read the Data Format for made complex statistics and understanding what is done.\n",
    "\n",
    "Frist thinghs is select the library for make the analysis:"
   ]
  },
  {
   "cell_type": "code",
   "execution_count": 150,
   "metadata": {},
   "outputs": [
    {
     "name": "stdout",
     "output_type": "stream",
     "text": [
      "Collecting git+git://github.com/geopandas/geopandas.git\n",
      "  Cloning git://github.com/geopandas/geopandas.git to /tmp/pip-req-build-qh7zudda\n",
      "  Running command git clone -q git://github.com/geopandas/geopandas.git /tmp/pip-req-build-qh7zudda\n",
      "^C\n",
      "\u001b[31mERROR: Operation cancelled by user\u001b[0m\n"
     ]
    }
   ],
   "source": [
    "# install geopandas for made heatmap later\n",
    "!pip install git+git://github.com/geopandas/geopandas.git\n",
    "# if u don't have numpy,pandas or matplotlib -> use -> !pip install <name>"
   ]
  },
  {
   "cell_type": "code",
   "execution_count": 151,
   "metadata": {},
   "outputs": [],
   "source": [
    "# importing the library\n",
    "import os\n",
    "import json\n",
    "import math\n",
    "import numpy as np\n",
    "import pandas as pd\n",
    "import matplotlib.pyplot as plt\n",
    "import shutil\n",
    "import geopandas as gpd"
   ]
  },
  {
   "cell_type": "markdown",
   "metadata": {},
   "source": [
    "## Download the last data\n",
    "First remove the old directory if exist then download the data"
   ]
  },
  {
   "cell_type": "code",
   "execution_count": 152,
   "metadata": {},
   "outputs": [],
   "source": [
    "#  UNCOMMENT THIS CELL IF YOU HAVE ALREDY DOWNLOADED THE DATA\n",
    "# dir_path = 'COVID-19'\n",
    "# shutil.rmtree(dir_path)"
   ]
  },
  {
   "cell_type": "code",
   "execution_count": 73,
   "metadata": {},
   "outputs": [
    {
     "name": "stdout",
     "output_type": "stream",
     "text": [
      "fatal: il percorso di destinazione 'COVID-19' esiste già e non è una directory vuota.\r\n"
     ]
    }
   ],
   "source": [
    "# download the data\n",
    "!git clone https://github.com/pcm-dpc/COVID-19.git"
   ]
  },
  {
   "cell_type": "code",
   "execution_count": 80,
   "metadata": {},
   "outputs": [
    {
     "name": "stdout",
     "output_type": "stream",
     "text": [
      "\u001b[0m\u001b[01;34mCOVID-19\u001b[0m/        Erpichini.pdf  functions.py  \u001b[01;34m__pycache__\u001b[0m/  test.py\r\n",
      "Erpichini.ipynb  Erpichini.py   \u001b[01;34mimg\u001b[0m/          README.md     utils.py\r\n"
     ]
    }
   ],
   "source": [
    "ls #check the directory"
   ]
  },
  {
   "cell_type": "markdown",
   "metadata": {},
   "source": [
    "## Prepare the data for Pandas\n",
    "\n",
    "Here there is a preliminary data analysis for understanding how data are collected using simple Python dictionary"
   ]
  },
  {
   "cell_type": "code",
   "execution_count": 153,
   "metadata": {},
   "outputs": [],
   "source": [
    "data_folder_path = \"COVID-19/dati-json/\"\n",
    "\n",
    "with open(os.path.join(data_folder_path, \"dpc-covid19-ita-regioni.json\")) as file:\n",
    "    regions = json.load(file)\n",
    "\n",
    "with open(os.path.join(data_folder_path, \"dpc-covid19-ita-province.json\")) as file:\n",
    "    provinces = json.load(file)"
   ]
  },
  {
   "cell_type": "code",
   "execution_count": 154,
   "metadata": {
    "scrolled": true
   },
   "outputs": [
    {
     "data": {
      "text/plain": [
       "{'data': '2020-02-24T18:00:00',\n",
       " 'stato': 'ITA',\n",
       " 'codice_regione': 13,\n",
       " 'denominazione_regione': 'Abruzzo',\n",
       " 'lat': 42.35122196,\n",
       " 'long': 13.39843823,\n",
       " 'ricoverati_con_sintomi': 0,\n",
       " 'terapia_intensiva': 0,\n",
       " 'totale_ospedalizzati': 0,\n",
       " 'isolamento_domiciliare': 0,\n",
       " 'totale_positivi': 0,\n",
       " 'variazione_totale_positivi': 0,\n",
       " 'nuovi_positivi': 0,\n",
       " 'dimessi_guariti': 0,\n",
       " 'deceduti': 0,\n",
       " 'casi_da_sospetto_diagnostico': None,\n",
       " 'casi_da_screening': None,\n",
       " 'totale_casi': 0,\n",
       " 'tamponi': 5,\n",
       " 'casi_testati': None,\n",
       " 'note': None}"
      ]
     },
     "execution_count": 154,
     "metadata": {},
     "output_type": "execute_result"
    }
   ],
   "source": [
    "regions[0]"
   ]
  },
  {
   "cell_type": "code",
   "execution_count": 155,
   "metadata": {},
   "outputs": [
    {
     "data": {
      "text/plain": [
       "{'data': '2020-02-24T18:00:00',\n",
       " 'stato': 'ITA',\n",
       " 'codice_regione': 13,\n",
       " 'denominazione_regione': 'Abruzzo',\n",
       " 'codice_provincia': 66,\n",
       " 'denominazione_provincia': \"L'Aquila\",\n",
       " 'sigla_provincia': 'AQ',\n",
       " 'lat': 42.35122196,\n",
       " 'long': 13.39843823,\n",
       " 'totale_casi': 0,\n",
       " 'note': None}"
      ]
     },
     "execution_count": 155,
     "metadata": {},
     "output_type": "execute_result"
    }
   ],
   "source": [
    "provinces[0]"
   ]
  },
  {
   "cell_type": "markdown",
   "metadata": {},
   "source": [
    "The two object are two dictionary, is possible to see how are made the structure of two single item of each JSON data.\n",
    "The same file may can be opend like a csv file that maybe is much similar to a Pandas dataframe but the conversion from dictionary to dataframe is given by the Pandas.\n",
    "\n",
    "## Pandas DataFrame\n",
    "\n",
    "Pandas is an intuitive and good documentated library and the data loading as dataframe is simple, also this format have a lot of methods and function for analysis."
   ]
  },
  {
   "cell_type": "code",
   "execution_count": 156,
   "metadata": {},
   "outputs": [],
   "source": [
    "df_regions = pd.DataFrame(regions)\n",
    "df_provinces = pd.DataFrame(provinces)"
   ]
  },
  {
   "cell_type": "markdown",
   "metadata": {},
   "source": [
    "Now for replicate the same content of each dataframe like the dictionary we can use the function head(int) from Pandas that display the content of the frist element in the dataframe."
   ]
  },
  {
   "cell_type": "code",
   "execution_count": 157,
   "metadata": {
    "scrolled": true
   },
   "outputs": [
    {
     "data": {
      "text/html": [
       "<div>\n",
       "<style scoped>\n",
       "    .dataframe tbody tr th:only-of-type {\n",
       "        vertical-align: middle;\n",
       "    }\n",
       "\n",
       "    .dataframe tbody tr th {\n",
       "        vertical-align: top;\n",
       "    }\n",
       "\n",
       "    .dataframe thead th {\n",
       "        text-align: right;\n",
       "    }\n",
       "</style>\n",
       "<table border=\"1\" class=\"dataframe\">\n",
       "  <thead>\n",
       "    <tr style=\"text-align: right;\">\n",
       "      <th></th>\n",
       "      <th>data</th>\n",
       "      <th>stato</th>\n",
       "      <th>codice_regione</th>\n",
       "      <th>denominazione_regione</th>\n",
       "      <th>lat</th>\n",
       "      <th>long</th>\n",
       "      <th>ricoverati_con_sintomi</th>\n",
       "      <th>terapia_intensiva</th>\n",
       "      <th>totale_ospedalizzati</th>\n",
       "      <th>isolamento_domiciliare</th>\n",
       "      <th>...</th>\n",
       "      <th>variazione_totale_positivi</th>\n",
       "      <th>nuovi_positivi</th>\n",
       "      <th>dimessi_guariti</th>\n",
       "      <th>deceduti</th>\n",
       "      <th>casi_da_sospetto_diagnostico</th>\n",
       "      <th>casi_da_screening</th>\n",
       "      <th>totale_casi</th>\n",
       "      <th>tamponi</th>\n",
       "      <th>casi_testati</th>\n",
       "      <th>note</th>\n",
       "    </tr>\n",
       "  </thead>\n",
       "  <tbody>\n",
       "    <tr>\n",
       "      <th>0</th>\n",
       "      <td>2020-02-24T18:00:00</td>\n",
       "      <td>ITA</td>\n",
       "      <td>13</td>\n",
       "      <td>Abruzzo</td>\n",
       "      <td>42.351222</td>\n",
       "      <td>13.398438</td>\n",
       "      <td>0</td>\n",
       "      <td>0</td>\n",
       "      <td>0</td>\n",
       "      <td>0</td>\n",
       "      <td>...</td>\n",
       "      <td>0</td>\n",
       "      <td>0</td>\n",
       "      <td>0</td>\n",
       "      <td>0</td>\n",
       "      <td>NaN</td>\n",
       "      <td>NaN</td>\n",
       "      <td>0</td>\n",
       "      <td>5</td>\n",
       "      <td>NaN</td>\n",
       "      <td>None</td>\n",
       "    </tr>\n",
       "  </tbody>\n",
       "</table>\n",
       "<p>1 rows × 21 columns</p>\n",
       "</div>"
      ],
      "text/plain": [
       "                  data stato  codice_regione denominazione_regione        lat  \\\n",
       "0  2020-02-24T18:00:00   ITA              13               Abruzzo  42.351222   \n",
       "\n",
       "        long  ricoverati_con_sintomi  terapia_intensiva  totale_ospedalizzati  \\\n",
       "0  13.398438                       0                  0                     0   \n",
       "\n",
       "   isolamento_domiciliare  ...  variazione_totale_positivi  nuovi_positivi  \\\n",
       "0                       0  ...                           0               0   \n",
       "\n",
       "   dimessi_guariti  deceduti  casi_da_sospetto_diagnostico  casi_da_screening  \\\n",
       "0                0         0                           NaN                NaN   \n",
       "\n",
       "   totale_casi  tamponi  casi_testati  note  \n",
       "0            0        5           NaN  None  \n",
       "\n",
       "[1 rows x 21 columns]"
      ]
     },
     "execution_count": 157,
     "metadata": {},
     "output_type": "execute_result"
    }
   ],
   "source": [
    "df_regions.head(1)"
   ]
  },
  {
   "cell_type": "code",
   "execution_count": 158,
   "metadata": {},
   "outputs": [
    {
     "data": {
      "text/html": [
       "<div>\n",
       "<style scoped>\n",
       "    .dataframe tbody tr th:only-of-type {\n",
       "        vertical-align: middle;\n",
       "    }\n",
       "\n",
       "    .dataframe tbody tr th {\n",
       "        vertical-align: top;\n",
       "    }\n",
       "\n",
       "    .dataframe thead th {\n",
       "        text-align: right;\n",
       "    }\n",
       "</style>\n",
       "<table border=\"1\" class=\"dataframe\">\n",
       "  <thead>\n",
       "    <tr style=\"text-align: right;\">\n",
       "      <th></th>\n",
       "      <th>data</th>\n",
       "      <th>stato</th>\n",
       "      <th>codice_regione</th>\n",
       "      <th>denominazione_regione</th>\n",
       "      <th>codice_provincia</th>\n",
       "      <th>denominazione_provincia</th>\n",
       "      <th>sigla_provincia</th>\n",
       "      <th>lat</th>\n",
       "      <th>long</th>\n",
       "      <th>totale_casi</th>\n",
       "      <th>note</th>\n",
       "    </tr>\n",
       "  </thead>\n",
       "  <tbody>\n",
       "    <tr>\n",
       "      <th>0</th>\n",
       "      <td>2020-02-24T18:00:00</td>\n",
       "      <td>ITA</td>\n",
       "      <td>13</td>\n",
       "      <td>Abruzzo</td>\n",
       "      <td>66</td>\n",
       "      <td>L'Aquila</td>\n",
       "      <td>AQ</td>\n",
       "      <td>42.351222</td>\n",
       "      <td>13.398438</td>\n",
       "      <td>0</td>\n",
       "      <td>None</td>\n",
       "    </tr>\n",
       "  </tbody>\n",
       "</table>\n",
       "</div>"
      ],
      "text/plain": [
       "                  data stato  codice_regione denominazione_regione  \\\n",
       "0  2020-02-24T18:00:00   ITA              13               Abruzzo   \n",
       "\n",
       "   codice_provincia denominazione_provincia sigla_provincia        lat  \\\n",
       "0                66                L'Aquila              AQ  42.351222   \n",
       "\n",
       "        long  totale_casi  note  \n",
       "0  13.398438            0  None  "
      ]
     },
     "execution_count": 158,
     "metadata": {},
     "output_type": "execute_result"
    }
   ],
   "source": [
    "df_provinces.head(1)"
   ]
  },
  {
   "cell_type": "markdown",
   "metadata": {},
   "source": [
    "#### Describe()\n",
    "A very interesting function for analyze the data are the describe function that gave a descriptive statistics include those that summarize the central tendency, dispersion and shape of a dataset’s distribution, excluding NaN values.\n",
    "\n",
    "Analyzes both numeric and object series, as well as DataFrame column sets of mixed data types. The output will vary depending on what is provided.\n",
    "\n",
    "In our cases for example is intersting see the mean,min and max of \"ricoverati_con_sintomi\" or \"terapia_intensiva\" column but is not important the mean of \"lat\" or \"codice_regione\" because this mean have no sense with this type of data so is important analyze every aspect of the data."
   ]
  },
  {
   "cell_type": "code",
   "execution_count": 159,
   "metadata": {},
   "outputs": [
    {
     "data": {
      "text/html": [
       "<div>\n",
       "<style scoped>\n",
       "    .dataframe tbody tr th:only-of-type {\n",
       "        vertical-align: middle;\n",
       "    }\n",
       "\n",
       "    .dataframe tbody tr th {\n",
       "        vertical-align: top;\n",
       "    }\n",
       "\n",
       "    .dataframe thead th {\n",
       "        text-align: right;\n",
       "    }\n",
       "</style>\n",
       "<table border=\"1\" class=\"dataframe\">\n",
       "  <thead>\n",
       "    <tr style=\"text-align: right;\">\n",
       "      <th></th>\n",
       "      <th>codice_regione</th>\n",
       "      <th>lat</th>\n",
       "      <th>long</th>\n",
       "      <th>ricoverati_con_sintomi</th>\n",
       "      <th>terapia_intensiva</th>\n",
       "      <th>totale_ospedalizzati</th>\n",
       "      <th>isolamento_domiciliare</th>\n",
       "      <th>totale_positivi</th>\n",
       "      <th>variazione_totale_positivi</th>\n",
       "      <th>nuovi_positivi</th>\n",
       "      <th>dimessi_guariti</th>\n",
       "      <th>deceduti</th>\n",
       "      <th>casi_da_sospetto_diagnostico</th>\n",
       "      <th>casi_da_screening</th>\n",
       "      <th>totale_casi</th>\n",
       "      <th>tamponi</th>\n",
       "      <th>casi_testati</th>\n",
       "    </tr>\n",
       "  </thead>\n",
       "  <tbody>\n",
       "    <tr>\n",
       "      <th>count</th>\n",
       "      <td>5796.000000</td>\n",
       "      <td>5796.000000</td>\n",
       "      <td>5796.000000</td>\n",
       "      <td>5796.000000</td>\n",
       "      <td>5796.000000</td>\n",
       "      <td>5796.000000</td>\n",
       "      <td>5796.000000</td>\n",
       "      <td>5796.000000</td>\n",
       "      <td>5796.000000</td>\n",
       "      <td>5796.00000</td>\n",
       "      <td>5796.000000</td>\n",
       "      <td>5796.000000</td>\n",
       "      <td>3234.000000</td>\n",
       "      <td>3234.000000</td>\n",
       "      <td>5796.000000</td>\n",
       "      <td>5.796000e+03</td>\n",
       "      <td>4.641000e+03</td>\n",
       "    </tr>\n",
       "    <tr>\n",
       "      <th>mean</th>\n",
       "      <td>11.857143</td>\n",
       "      <td>43.046293</td>\n",
       "      <td>12.225955</td>\n",
       "      <td>467.983782</td>\n",
       "      <td>51.166667</td>\n",
       "      <td>519.150449</td>\n",
       "      <td>4548.402174</td>\n",
       "      <td>5067.552622</td>\n",
       "      <td>136.555556</td>\n",
       "      <td>255.52726</td>\n",
       "      <td>8207.663043</td>\n",
       "      <td>1425.944444</td>\n",
       "      <td>15265.948980</td>\n",
       "      <td>5289.736858</td>\n",
       "      <td>14701.163043</td>\n",
       "      <td>3.235263e+05</td>\n",
       "      <td>2.420196e+05</td>\n",
       "    </tr>\n",
       "    <tr>\n",
       "      <th>std</th>\n",
       "      <td>6.274340</td>\n",
       "      <td>2.488995</td>\n",
       "      <td>2.659177</td>\n",
       "      <td>1233.170667</td>\n",
       "      <td>129.825374</td>\n",
       "      <td>1358.673889</td>\n",
       "      <td>13342.105665</td>\n",
       "      <td>14188.937970</td>\n",
       "      <td>649.756524</td>\n",
       "      <td>789.28799</td>\n",
       "      <td>16664.503264</td>\n",
       "      <td>3293.349062</td>\n",
       "      <td>29138.367898</td>\n",
       "      <td>12429.257344</td>\n",
       "      <td>30554.771545</td>\n",
       "      <td>4.980216e+05</td>\n",
       "      <td>3.040983e+05</td>\n",
       "    </tr>\n",
       "    <tr>\n",
       "      <th>min</th>\n",
       "      <td>1.000000</td>\n",
       "      <td>38.115697</td>\n",
       "      <td>7.320149</td>\n",
       "      <td>0.000000</td>\n",
       "      <td>0.000000</td>\n",
       "      <td>0.000000</td>\n",
       "      <td>0.000000</td>\n",
       "      <td>0.000000</td>\n",
       "      <td>-14488.000000</td>\n",
       "      <td>-229.00000</td>\n",
       "      <td>0.000000</td>\n",
       "      <td>0.000000</td>\n",
       "      <td>400.000000</td>\n",
       "      <td>0.000000</td>\n",
       "      <td>0.000000</td>\n",
       "      <td>0.000000e+00</td>\n",
       "      <td>3.482000e+03</td>\n",
       "    </tr>\n",
       "    <tr>\n",
       "      <th>25%</th>\n",
       "      <td>7.000000</td>\n",
       "      <td>41.125596</td>\n",
       "      <td>11.121231</td>\n",
       "      <td>15.000000</td>\n",
       "      <td>1.000000</td>\n",
       "      <td>16.000000</td>\n",
       "      <td>129.000000</td>\n",
       "      <td>156.000000</td>\n",
       "      <td>-3.000000</td>\n",
       "      <td>3.00000</td>\n",
       "      <td>640.750000</td>\n",
       "      <td>97.000000</td>\n",
       "      <td>2005.000000</td>\n",
       "      <td>116.000000</td>\n",
       "      <td>1361.000000</td>\n",
       "      <td>3.546900e+04</td>\n",
       "      <td>6.291800e+04</td>\n",
       "    </tr>\n",
       "    <tr>\n",
       "      <th>50%</th>\n",
       "      <td>12.000000</td>\n",
       "      <td>43.616760</td>\n",
       "      <td>12.388247</td>\n",
       "      <td>85.000000</td>\n",
       "      <td>8.000000</td>\n",
       "      <td>95.500000</td>\n",
       "      <td>686.000000</td>\n",
       "      <td>836.500000</td>\n",
       "      <td>6.000000</td>\n",
       "      <td>27.00000</td>\n",
       "      <td>2725.500000</td>\n",
       "      <td>358.000000</td>\n",
       "      <td>4932.000000</td>\n",
       "      <td>1352.500000</td>\n",
       "      <td>4449.000000</td>\n",
       "      <td>1.437045e+05</td>\n",
       "      <td>1.292510e+05</td>\n",
       "    </tr>\n",
       "    <tr>\n",
       "      <th>75%</th>\n",
       "      <td>17.000000</td>\n",
       "      <td>45.434905</td>\n",
       "      <td>13.768136</td>\n",
       "      <td>341.250000</td>\n",
       "      <td>41.000000</td>\n",
       "      <td>379.500000</td>\n",
       "      <td>2656.250000</td>\n",
       "      <td>3232.250000</td>\n",
       "      <td>75.000000</td>\n",
       "      <td>137.00000</td>\n",
       "      <td>7716.250000</td>\n",
       "      <td>1026.250000</td>\n",
       "      <td>17375.500000</td>\n",
       "      <td>4876.750000</td>\n",
       "      <td>12739.000000</td>\n",
       "      <td>3.574862e+05</td>\n",
       "      <td>2.888370e+05</td>\n",
       "    </tr>\n",
       "    <tr>\n",
       "      <th>max</th>\n",
       "      <td>22.000000</td>\n",
       "      <td>46.499335</td>\n",
       "      <td>16.867367</td>\n",
       "      <td>12077.000000</td>\n",
       "      <td>1381.000000</td>\n",
       "      <td>13328.000000</td>\n",
       "      <td>155066.000000</td>\n",
       "      <td>164406.000000</td>\n",
       "      <td>10263.000000</td>\n",
       "      <td>11489.00000</td>\n",
       "      <td>227924.000000</td>\n",
       "      <td>21005.000000</td>\n",
       "      <td>286833.000000</td>\n",
       "      <td>100125.000000</td>\n",
       "      <td>386958.000000</td>\n",
       "      <td>3.904809e+06</td>\n",
       "      <td>2.289221e+06</td>\n",
       "    </tr>\n",
       "  </tbody>\n",
       "</table>\n",
       "</div>"
      ],
      "text/plain": [
       "       codice_regione          lat         long  ricoverati_con_sintomi  \\\n",
       "count     5796.000000  5796.000000  5796.000000             5796.000000   \n",
       "mean        11.857143    43.046293    12.225955              467.983782   \n",
       "std          6.274340     2.488995     2.659177             1233.170667   \n",
       "min          1.000000    38.115697     7.320149                0.000000   \n",
       "25%          7.000000    41.125596    11.121231               15.000000   \n",
       "50%         12.000000    43.616760    12.388247               85.000000   \n",
       "75%         17.000000    45.434905    13.768136              341.250000   \n",
       "max         22.000000    46.499335    16.867367            12077.000000   \n",
       "\n",
       "       terapia_intensiva  totale_ospedalizzati  isolamento_domiciliare  \\\n",
       "count        5796.000000           5796.000000             5796.000000   \n",
       "mean           51.166667            519.150449             4548.402174   \n",
       "std           129.825374           1358.673889            13342.105665   \n",
       "min             0.000000              0.000000                0.000000   \n",
       "25%             1.000000             16.000000              129.000000   \n",
       "50%             8.000000             95.500000              686.000000   \n",
       "75%            41.000000            379.500000             2656.250000   \n",
       "max          1381.000000          13328.000000           155066.000000   \n",
       "\n",
       "       totale_positivi  variazione_totale_positivi  nuovi_positivi  \\\n",
       "count      5796.000000                 5796.000000      5796.00000   \n",
       "mean       5067.552622                  136.555556       255.52726   \n",
       "std       14188.937970                  649.756524       789.28799   \n",
       "min           0.000000               -14488.000000      -229.00000   \n",
       "25%         156.000000                   -3.000000         3.00000   \n",
       "50%         836.500000                    6.000000        27.00000   \n",
       "75%        3232.250000                   75.000000       137.00000   \n",
       "max      164406.000000                10263.000000     11489.00000   \n",
       "\n",
       "       dimessi_guariti      deceduti  casi_da_sospetto_diagnostico  \\\n",
       "count      5796.000000   5796.000000                   3234.000000   \n",
       "mean       8207.663043   1425.944444                  15265.948980   \n",
       "std       16664.503264   3293.349062                  29138.367898   \n",
       "min           0.000000      0.000000                    400.000000   \n",
       "25%         640.750000     97.000000                   2005.000000   \n",
       "50%        2725.500000    358.000000                   4932.000000   \n",
       "75%        7716.250000   1026.250000                  17375.500000   \n",
       "max      227924.000000  21005.000000                 286833.000000   \n",
       "\n",
       "       casi_da_screening    totale_casi       tamponi  casi_testati  \n",
       "count        3234.000000    5796.000000  5.796000e+03  4.641000e+03  \n",
       "mean         5289.736858   14701.163043  3.235263e+05  2.420196e+05  \n",
       "std         12429.257344   30554.771545  4.980216e+05  3.040983e+05  \n",
       "min             0.000000       0.000000  0.000000e+00  3.482000e+03  \n",
       "25%           116.000000    1361.000000  3.546900e+04  6.291800e+04  \n",
       "50%          1352.500000    4449.000000  1.437045e+05  1.292510e+05  \n",
       "75%          4876.750000   12739.000000  3.574862e+05  2.888370e+05  \n",
       "max        100125.000000  386958.000000  3.904809e+06  2.289221e+06  "
      ]
     },
     "execution_count": 159,
     "metadata": {},
     "output_type": "execute_result"
    }
   ],
   "source": [
    "df_regions.describe()"
   ]
  },
  {
   "cell_type": "code",
   "execution_count": 160,
   "metadata": {},
   "outputs": [
    {
     "data": {
      "text/html": [
       "<div>\n",
       "<style scoped>\n",
       "    .dataframe tbody tr th:only-of-type {\n",
       "        vertical-align: middle;\n",
       "    }\n",
       "\n",
       "    .dataframe tbody tr th {\n",
       "        vertical-align: top;\n",
       "    }\n",
       "\n",
       "    .dataframe thead th {\n",
       "        text-align: right;\n",
       "    }\n",
       "</style>\n",
       "<table border=\"1\" class=\"dataframe\">\n",
       "  <thead>\n",
       "    <tr style=\"text-align: right;\">\n",
       "      <th></th>\n",
       "      <th>codice_regione</th>\n",
       "      <th>codice_provincia</th>\n",
       "      <th>lat</th>\n",
       "      <th>long</th>\n",
       "      <th>totale_casi</th>\n",
       "    </tr>\n",
       "  </thead>\n",
       "  <tbody>\n",
       "    <tr>\n",
       "      <th>count</th>\n",
       "      <td>38562.000000</td>\n",
       "      <td>38562.000000</td>\n",
       "      <td>29532.000000</td>\n",
       "      <td>29532.000000</td>\n",
       "      <td>38562.000000</td>\n",
       "    </tr>\n",
       "    <tr>\n",
       "      <th>mean</th>\n",
       "      <td>10.366267</td>\n",
       "      <td>264.675432</td>\n",
       "      <td>42.908522</td>\n",
       "      <td>12.096599</td>\n",
       "      <td>2209.532026</td>\n",
       "    </tr>\n",
       "    <tr>\n",
       "      <th>std</th>\n",
       "      <td>5.997680</td>\n",
       "      <td>382.417089</td>\n",
       "      <td>2.631554</td>\n",
       "      <td>2.660591</td>\n",
       "      <td>5567.260566</td>\n",
       "    </tr>\n",
       "    <tr>\n",
       "      <th>min</th>\n",
       "      <td>1.000000</td>\n",
       "      <td>1.000000</td>\n",
       "      <td>36.925092</td>\n",
       "      <td>7.320149</td>\n",
       "      <td>0.000000</td>\n",
       "    </tr>\n",
       "    <tr>\n",
       "      <th>25%</th>\n",
       "      <td>5.000000</td>\n",
       "      <td>35.000000</td>\n",
       "      <td>40.914047</td>\n",
       "      <td>9.828190</td>\n",
       "      <td>97.000000</td>\n",
       "    </tr>\n",
       "    <tr>\n",
       "      <th>50%</th>\n",
       "      <td>9.000000</td>\n",
       "      <td>70.000000</td>\n",
       "      <td>43.715532</td>\n",
       "      <td>12.104734</td>\n",
       "      <td>598.000000</td>\n",
       "    </tr>\n",
       "    <tr>\n",
       "      <th>75%</th>\n",
       "      <td>16.000000</td>\n",
       "      <td>109.000000</td>\n",
       "      <td>45.185093</td>\n",
       "      <td>14.167546</td>\n",
       "      <td>2222.000000</td>\n",
       "    </tr>\n",
       "    <tr>\n",
       "      <th>max</th>\n",
       "      <td>22.000000</td>\n",
       "      <td>999.000000</td>\n",
       "      <td>46.499335</td>\n",
       "      <td>18.171897</td>\n",
       "      <td>144616.000000</td>\n",
       "    </tr>\n",
       "  </tbody>\n",
       "</table>\n",
       "</div>"
      ],
      "text/plain": [
       "       codice_regione  codice_provincia           lat          long  \\\n",
       "count    38562.000000      38562.000000  29532.000000  29532.000000   \n",
       "mean        10.366267        264.675432     42.908522     12.096599   \n",
       "std          5.997680        382.417089      2.631554      2.660591   \n",
       "min          1.000000          1.000000     36.925092      7.320149   \n",
       "25%          5.000000         35.000000     40.914047      9.828190   \n",
       "50%          9.000000         70.000000     43.715532     12.104734   \n",
       "75%         16.000000        109.000000     45.185093     14.167546   \n",
       "max         22.000000        999.000000     46.499335     18.171897   \n",
       "\n",
       "         totale_casi  \n",
       "count   38562.000000  \n",
       "mean     2209.532026  \n",
       "std      5567.260566  \n",
       "min         0.000000  \n",
       "25%        97.000000  \n",
       "50%       598.000000  \n",
       "75%      2222.000000  \n",
       "max    144616.000000  "
      ]
     },
     "execution_count": 160,
     "metadata": {},
     "output_type": "execute_result"
    }
   ],
   "source": [
    "df_provinces.describe()"
   ]
  },
  {
   "cell_type": "markdown",
   "metadata": {},
   "source": [
    "Pandas give the possibilities to analyze every aspect of a data and to use the right type for every data for made the right statistics, so is important to control and maybe remove not useful data for analysis.\n",
    "\n",
    "For a preliminary analysis on data the columns \"stato\", \"note\", \"lat\", \"long\" are removed."
   ]
  },
  {
   "cell_type": "code",
   "execution_count": 161,
   "metadata": {},
   "outputs": [
    {
     "data": {
      "text/plain": [
       "data                             object\n",
       "codice_regione                    int64\n",
       "denominazione_regione            object\n",
       "ricoverati_con_sintomi            int64\n",
       "terapia_intensiva                 int64\n",
       "totale_ospedalizzati              int64\n",
       "isolamento_domiciliare            int64\n",
       "totale_positivi                   int64\n",
       "variazione_totale_positivi        int64\n",
       "nuovi_positivi                    int64\n",
       "dimessi_guariti                   int64\n",
       "deceduti                          int64\n",
       "casi_da_sospetto_diagnostico    float64\n",
       "casi_da_screening               float64\n",
       "totale_casi                       int64\n",
       "tamponi                           int64\n",
       "casi_testati                    float64\n",
       "dtype: object"
      ]
     },
     "execution_count": 161,
     "metadata": {},
     "output_type": "execute_result"
    }
   ],
   "source": [
    "df_regions.drop(columns=[\"stato\", \"note\", \"lat\", \"long\"],inplace=True)\n",
    "df_provinces.drop(columns=[\"stato\", \"note\"],inplace=True) # lat and long in provinces are used for heatmap\n",
    "# type of fields in dataframe region\n",
    "df_regions.dtypes\n",
    "# df_regions.shape this gave the number of rowsxcolumn"
   ]
  },
  {
   "cell_type": "markdown",
   "metadata": {},
   "source": [
    "Also i see with the .dtypes method tath the data is an object and for use later some methods is necessary to normalize this field in the two table."
   ]
  },
  {
   "cell_type": "code",
   "execution_count": 162,
   "metadata": {},
   "outputs": [],
   "source": [
    "df_regions[\"data\"] = pd.DatetimeIndex(df_regions[\"data\"]).normalize()\n",
    "df_provinces[\"data\"] = pd.DatetimeIndex(df_provinces[\"data\"]).normalize()"
   ]
  },
  {
   "cell_type": "markdown",
   "metadata": {},
   "source": [
    "## Region analisys\n",
    "\n",
    "For this analisys the choiches of indexes is to use a multi-index with the \"data\" and \"denominazione_regione\", the table also can be sorted by the multi-index.\n",
    "Same things can be done with the provinces later."
   ]
  },
  {
   "cell_type": "code",
   "execution_count": 163,
   "metadata": {},
   "outputs": [
    {
     "data": {
      "text/html": [
       "<div>\n",
       "<style scoped>\n",
       "    .dataframe tbody tr th:only-of-type {\n",
       "        vertical-align: middle;\n",
       "    }\n",
       "\n",
       "    .dataframe tbody tr th {\n",
       "        vertical-align: top;\n",
       "    }\n",
       "\n",
       "    .dataframe thead th {\n",
       "        text-align: right;\n",
       "    }\n",
       "</style>\n",
       "<table border=\"1\" class=\"dataframe\">\n",
       "  <thead>\n",
       "    <tr style=\"text-align: right;\">\n",
       "      <th></th>\n",
       "      <th></th>\n",
       "      <th>codice_regione</th>\n",
       "      <th>ricoverati_con_sintomi</th>\n",
       "      <th>terapia_intensiva</th>\n",
       "      <th>totale_ospedalizzati</th>\n",
       "      <th>isolamento_domiciliare</th>\n",
       "      <th>totale_positivi</th>\n",
       "      <th>variazione_totale_positivi</th>\n",
       "      <th>nuovi_positivi</th>\n",
       "      <th>dimessi_guariti</th>\n",
       "      <th>deceduti</th>\n",
       "      <th>casi_da_sospetto_diagnostico</th>\n",
       "      <th>casi_da_screening</th>\n",
       "      <th>totale_casi</th>\n",
       "      <th>tamponi</th>\n",
       "      <th>casi_testati</th>\n",
       "    </tr>\n",
       "    <tr>\n",
       "      <th>data</th>\n",
       "      <th>denominazione_regione</th>\n",
       "      <th></th>\n",
       "      <th></th>\n",
       "      <th></th>\n",
       "      <th></th>\n",
       "      <th></th>\n",
       "      <th></th>\n",
       "      <th></th>\n",
       "      <th></th>\n",
       "      <th></th>\n",
       "      <th></th>\n",
       "      <th></th>\n",
       "      <th></th>\n",
       "      <th></th>\n",
       "      <th></th>\n",
       "      <th></th>\n",
       "    </tr>\n",
       "  </thead>\n",
       "  <tbody>\n",
       "    <tr>\n",
       "      <th rowspan=\"5\" valign=\"top\">2020-02-24</th>\n",
       "      <th>Abruzzo</th>\n",
       "      <td>13</td>\n",
       "      <td>0</td>\n",
       "      <td>0</td>\n",
       "      <td>0</td>\n",
       "      <td>0</td>\n",
       "      <td>0</td>\n",
       "      <td>0</td>\n",
       "      <td>0</td>\n",
       "      <td>0</td>\n",
       "      <td>0</td>\n",
       "      <td>NaN</td>\n",
       "      <td>NaN</td>\n",
       "      <td>0</td>\n",
       "      <td>5</td>\n",
       "      <td>NaN</td>\n",
       "    </tr>\n",
       "    <tr>\n",
       "      <th>Basilicata</th>\n",
       "      <td>17</td>\n",
       "      <td>0</td>\n",
       "      <td>0</td>\n",
       "      <td>0</td>\n",
       "      <td>0</td>\n",
       "      <td>0</td>\n",
       "      <td>0</td>\n",
       "      <td>0</td>\n",
       "      <td>0</td>\n",
       "      <td>0</td>\n",
       "      <td>NaN</td>\n",
       "      <td>NaN</td>\n",
       "      <td>0</td>\n",
       "      <td>0</td>\n",
       "      <td>NaN</td>\n",
       "    </tr>\n",
       "    <tr>\n",
       "      <th>Calabria</th>\n",
       "      <td>18</td>\n",
       "      <td>0</td>\n",
       "      <td>0</td>\n",
       "      <td>0</td>\n",
       "      <td>0</td>\n",
       "      <td>0</td>\n",
       "      <td>0</td>\n",
       "      <td>0</td>\n",
       "      <td>0</td>\n",
       "      <td>0</td>\n",
       "      <td>NaN</td>\n",
       "      <td>NaN</td>\n",
       "      <td>0</td>\n",
       "      <td>1</td>\n",
       "      <td>NaN</td>\n",
       "    </tr>\n",
       "    <tr>\n",
       "      <th>Campania</th>\n",
       "      <td>15</td>\n",
       "      <td>0</td>\n",
       "      <td>0</td>\n",
       "      <td>0</td>\n",
       "      <td>0</td>\n",
       "      <td>0</td>\n",
       "      <td>0</td>\n",
       "      <td>0</td>\n",
       "      <td>0</td>\n",
       "      <td>0</td>\n",
       "      <td>NaN</td>\n",
       "      <td>NaN</td>\n",
       "      <td>0</td>\n",
       "      <td>10</td>\n",
       "      <td>NaN</td>\n",
       "    </tr>\n",
       "    <tr>\n",
       "      <th>Emilia-Romagna</th>\n",
       "      <td>8</td>\n",
       "      <td>10</td>\n",
       "      <td>2</td>\n",
       "      <td>12</td>\n",
       "      <td>6</td>\n",
       "      <td>18</td>\n",
       "      <td>0</td>\n",
       "      <td>18</td>\n",
       "      <td>0</td>\n",
       "      <td>0</td>\n",
       "      <td>NaN</td>\n",
       "      <td>NaN</td>\n",
       "      <td>18</td>\n",
       "      <td>148</td>\n",
       "      <td>NaN</td>\n",
       "    </tr>\n",
       "  </tbody>\n",
       "</table>\n",
       "</div>"
      ],
      "text/plain": [
       "                                  codice_regione  ricoverati_con_sintomi  \\\n",
       "data       denominazione_regione                                           \n",
       "2020-02-24 Abruzzo                            13                       0   \n",
       "           Basilicata                         17                       0   \n",
       "           Calabria                           18                       0   \n",
       "           Campania                           15                       0   \n",
       "           Emilia-Romagna                      8                      10   \n",
       "\n",
       "                                  terapia_intensiva  totale_ospedalizzati  \\\n",
       "data       denominazione_regione                                            \n",
       "2020-02-24 Abruzzo                                0                     0   \n",
       "           Basilicata                             0                     0   \n",
       "           Calabria                               0                     0   \n",
       "           Campania                               0                     0   \n",
       "           Emilia-Romagna                         2                    12   \n",
       "\n",
       "                                  isolamento_domiciliare  totale_positivi  \\\n",
       "data       denominazione_regione                                            \n",
       "2020-02-24 Abruzzo                                     0                0   \n",
       "           Basilicata                                  0                0   \n",
       "           Calabria                                    0                0   \n",
       "           Campania                                    0                0   \n",
       "           Emilia-Romagna                              6               18   \n",
       "\n",
       "                                  variazione_totale_positivi  nuovi_positivi  \\\n",
       "data       denominazione_regione                                               \n",
       "2020-02-24 Abruzzo                                         0               0   \n",
       "           Basilicata                                      0               0   \n",
       "           Calabria                                        0               0   \n",
       "           Campania                                        0               0   \n",
       "           Emilia-Romagna                                  0              18   \n",
       "\n",
       "                                  dimessi_guariti  deceduti  \\\n",
       "data       denominazione_regione                              \n",
       "2020-02-24 Abruzzo                              0         0   \n",
       "           Basilicata                           0         0   \n",
       "           Calabria                             0         0   \n",
       "           Campania                             0         0   \n",
       "           Emilia-Romagna                       0         0   \n",
       "\n",
       "                                  casi_da_sospetto_diagnostico  \\\n",
       "data       denominazione_regione                                 \n",
       "2020-02-24 Abruzzo                                         NaN   \n",
       "           Basilicata                                      NaN   \n",
       "           Calabria                                        NaN   \n",
       "           Campania                                        NaN   \n",
       "           Emilia-Romagna                                  NaN   \n",
       "\n",
       "                                  casi_da_screening  totale_casi  tamponi  \\\n",
       "data       denominazione_regione                                            \n",
       "2020-02-24 Abruzzo                              NaN            0        5   \n",
       "           Basilicata                           NaN            0        0   \n",
       "           Calabria                             NaN            0        1   \n",
       "           Campania                             NaN            0       10   \n",
       "           Emilia-Romagna                       NaN           18      148   \n",
       "\n",
       "                                  casi_testati  \n",
       "data       denominazione_regione                \n",
       "2020-02-24 Abruzzo                         NaN  \n",
       "           Basilicata                      NaN  \n",
       "           Calabria                        NaN  \n",
       "           Campania                        NaN  \n",
       "           Emilia-Romagna                  NaN  "
      ]
     },
     "execution_count": 163,
     "metadata": {},
     "output_type": "execute_result"
    }
   ],
   "source": [
    "df_region_index = df_regions.set_index([\"data\", \"denominazione_regione\"]).sort_index()\n",
    "df_region_index.head()"
   ]
  },
  {
   "cell_type": "markdown",
   "metadata": {},
   "source": [
    "So with this index ispossible to use the .loc on fataframe for resume the actual situation of covid in italy, pandas gave also the possibility of adding new column with data aggregated.\n"
   ]
  },
  {
   "cell_type": "code",
   "execution_count": 164,
   "metadata": {},
   "outputs": [
    {
     "data": {
      "text/html": [
       "<div>\n",
       "<style scoped>\n",
       "    .dataframe tbody tr th:only-of-type {\n",
       "        vertical-align: middle;\n",
       "    }\n",
       "\n",
       "    .dataframe tbody tr th {\n",
       "        vertical-align: top;\n",
       "    }\n",
       "\n",
       "    .dataframe thead th {\n",
       "        text-align: right;\n",
       "    }\n",
       "</style>\n",
       "<table border=\"1\" class=\"dataframe\">\n",
       "  <thead>\n",
       "    <tr style=\"text-align: right;\">\n",
       "      <th></th>\n",
       "      <th>data</th>\n",
       "      <th>denominazione_regione</th>\n",
       "      <th>deceduti</th>\n",
       "      <th>totale_ospedalizzati</th>\n",
       "      <th>totale_casi</th>\n",
       "      <th>dimessi_guariti</th>\n",
       "      <th>tamponi</th>\n",
       "      <th>percentuale_guariti</th>\n",
       "    </tr>\n",
       "  </thead>\n",
       "  <tbody>\n",
       "    <tr>\n",
       "      <th>5775</th>\n",
       "      <td>2020-11-25</td>\n",
       "      <td>Abruzzo</td>\n",
       "      <td>831</td>\n",
       "      <td>748</td>\n",
       "      <td>25445</td>\n",
       "      <td>7582</td>\n",
       "      <td>389766</td>\n",
       "      <td>29.797603</td>\n",
       "    </tr>\n",
       "    <tr>\n",
       "      <th>5776</th>\n",
       "      <td>2020-11-25</td>\n",
       "      <td>Basilicata</td>\n",
       "      <td>133</td>\n",
       "      <td>176</td>\n",
       "      <td>7218</td>\n",
       "      <td>1218</td>\n",
       "      <td>144321</td>\n",
       "      <td>16.874480</td>\n",
       "    </tr>\n",
       "    <tr>\n",
       "      <th>5777</th>\n",
       "      <td>2020-11-25</td>\n",
       "      <td>Calabria</td>\n",
       "      <td>250</td>\n",
       "      <td>468</td>\n",
       "      <td>14859</td>\n",
       "      <td>4345</td>\n",
       "      <td>350996</td>\n",
       "      <td>29.241537</td>\n",
       "    </tr>\n",
       "    <tr>\n",
       "      <th>5778</th>\n",
       "      <td>2020-11-25</td>\n",
       "      <td>Campania</td>\n",
       "      <td>1434</td>\n",
       "      <td>2474</td>\n",
       "      <td>143010</td>\n",
       "      <td>39428</td>\n",
       "      <td>1484741</td>\n",
       "      <td>27.570100</td>\n",
       "    </tr>\n",
       "    <tr>\n",
       "      <th>5779</th>\n",
       "      <td>2020-11-25</td>\n",
       "      <td>Emilia-Romagna</td>\n",
       "      <td>5493</td>\n",
       "      <td>3012</td>\n",
       "      <td>112700</td>\n",
       "      <td>34681</td>\n",
       "      <td>2040254</td>\n",
       "      <td>30.772848</td>\n",
       "    </tr>\n",
       "    <tr>\n",
       "      <th>5780</th>\n",
       "      <td>2020-11-25</td>\n",
       "      <td>Friuli Venezia Giulia</td>\n",
       "      <td>715</td>\n",
       "      <td>642</td>\n",
       "      <td>26285</td>\n",
       "      <td>12034</td>\n",
       "      <td>679986</td>\n",
       "      <td>45.782766</td>\n",
       "    </tr>\n",
       "    <tr>\n",
       "      <th>5781</th>\n",
       "      <td>2020-11-25</td>\n",
       "      <td>Lazio</td>\n",
       "      <td>2146</td>\n",
       "      <td>3697</td>\n",
       "      <td>109592</td>\n",
       "      <td>20881</td>\n",
       "      <td>2092689</td>\n",
       "      <td>19.053398</td>\n",
       "    </tr>\n",
       "    <tr>\n",
       "      <th>5782</th>\n",
       "      <td>2020-11-25</td>\n",
       "      <td>Liguria</td>\n",
       "      <td>2308</td>\n",
       "      <td>1238</td>\n",
       "      <td>49381</td>\n",
       "      <td>33018</td>\n",
       "      <td>578449</td>\n",
       "      <td>66.863774</td>\n",
       "    </tr>\n",
       "    <tr>\n",
       "      <th>5783</th>\n",
       "      <td>2020-11-25</td>\n",
       "      <td>Lombardia</td>\n",
       "      <td>21005</td>\n",
       "      <td>9056</td>\n",
       "      <td>386958</td>\n",
       "      <td>227924</td>\n",
       "      <td>3904809</td>\n",
       "      <td>58.901483</td>\n",
       "    </tr>\n",
       "    <tr>\n",
       "      <th>5784</th>\n",
       "      <td>2020-11-25</td>\n",
       "      <td>Marche</td>\n",
       "      <td>1211</td>\n",
       "      <td>672</td>\n",
       "      <td>27554</td>\n",
       "      <td>10312</td>\n",
       "      <td>398356</td>\n",
       "      <td>37.424693</td>\n",
       "    </tr>\n",
       "    <tr>\n",
       "      <th>5785</th>\n",
       "      <td>2020-11-25</td>\n",
       "      <td>Molise</td>\n",
       "      <td>99</td>\n",
       "      <td>76</td>\n",
       "      <td>4177</td>\n",
       "      <td>1528</td>\n",
       "      <td>86418</td>\n",
       "      <td>36.581278</td>\n",
       "    </tr>\n",
       "    <tr>\n",
       "      <th>5786</th>\n",
       "      <td>2020-11-25</td>\n",
       "      <td>P.A. Bolzano</td>\n",
       "      <td>498</td>\n",
       "      <td>483</td>\n",
       "      <td>21961</td>\n",
       "      <td>9863</td>\n",
       "      <td>300122</td>\n",
       "      <td>44.911434</td>\n",
       "    </tr>\n",
       "    <tr>\n",
       "      <th>5787</th>\n",
       "      <td>2020-11-25</td>\n",
       "      <td>P.A. Trento</td>\n",
       "      <td>606</td>\n",
       "      <td>462</td>\n",
       "      <td>14547</td>\n",
       "      <td>11494</td>\n",
       "      <td>359553</td>\n",
       "      <td>79.012855</td>\n",
       "    </tr>\n",
       "    <tr>\n",
       "      <th>5788</th>\n",
       "      <td>2020-11-25</td>\n",
       "      <td>Piemonte</td>\n",
       "      <td>5803</td>\n",
       "      <td>5498</td>\n",
       "      <td>156253</td>\n",
       "      <td>72529</td>\n",
       "      <td>1468297</td>\n",
       "      <td>46.417669</td>\n",
       "    </tr>\n",
       "    <tr>\n",
       "      <th>5789</th>\n",
       "      <td>2020-11-25</td>\n",
       "      <td>Puglia</td>\n",
       "      <td>1302</td>\n",
       "      <td>1693</td>\n",
       "      <td>47565</td>\n",
       "      <td>12192</td>\n",
       "      <td>742930</td>\n",
       "      <td>25.632293</td>\n",
       "    </tr>\n",
       "    <tr>\n",
       "      <th>5790</th>\n",
       "      <td>2020-11-25</td>\n",
       "      <td>Sardegna</td>\n",
       "      <td>413</td>\n",
       "      <td>591</td>\n",
       "      <td>19639</td>\n",
       "      <td>6529</td>\n",
       "      <td>356555</td>\n",
       "      <td>33.245074</td>\n",
       "    </tr>\n",
       "    <tr>\n",
       "      <th>5791</th>\n",
       "      <td>2020-11-25</td>\n",
       "      <td>Sicilia</td>\n",
       "      <td>1322</td>\n",
       "      <td>1824</td>\n",
       "      <td>57001</td>\n",
       "      <td>17359</td>\n",
       "      <td>911444</td>\n",
       "      <td>30.453852</td>\n",
       "    </tr>\n",
       "    <tr>\n",
       "      <th>5792</th>\n",
       "      <td>2020-11-25</td>\n",
       "      <td>Toscana</td>\n",
       "      <td>2378</td>\n",
       "      <td>2040</td>\n",
       "      <td>97976</td>\n",
       "      <td>46318</td>\n",
       "      <td>1494998</td>\n",
       "      <td>47.274843</td>\n",
       "    </tr>\n",
       "    <tr>\n",
       "      <th>5793</th>\n",
       "      <td>2020-11-25</td>\n",
       "      <td>Umbria</td>\n",
       "      <td>355</td>\n",
       "      <td>431</td>\n",
       "      <td>22478</td>\n",
       "      <td>12186</td>\n",
       "      <td>399810</td>\n",
       "      <td>54.213008</td>\n",
       "    </tr>\n",
       "    <tr>\n",
       "      <th>5794</th>\n",
       "      <td>2020-11-25</td>\n",
       "      <td>Valle d'Aosta</td>\n",
       "      <td>297</td>\n",
       "      <td>153</td>\n",
       "      <td>6199</td>\n",
       "      <td>4219</td>\n",
       "      <td>56803</td>\n",
       "      <td>68.059364</td>\n",
       "    </tr>\n",
       "    <tr>\n",
       "      <th>5795</th>\n",
       "      <td>2020-11-25</td>\n",
       "      <td>Veneto</td>\n",
       "      <td>3429</td>\n",
       "      <td>2727</td>\n",
       "      <td>130076</td>\n",
       "      <td>51509</td>\n",
       "      <td>2714890</td>\n",
       "      <td>39.599157</td>\n",
       "    </tr>\n",
       "  </tbody>\n",
       "</table>\n",
       "</div>"
      ],
      "text/plain": [
       "           data  denominazione_regione  deceduti  totale_ospedalizzati  \\\n",
       "5775 2020-11-25                Abruzzo       831                   748   \n",
       "5776 2020-11-25             Basilicata       133                   176   \n",
       "5777 2020-11-25               Calabria       250                   468   \n",
       "5778 2020-11-25               Campania      1434                  2474   \n",
       "5779 2020-11-25         Emilia-Romagna      5493                  3012   \n",
       "5780 2020-11-25  Friuli Venezia Giulia       715                   642   \n",
       "5781 2020-11-25                  Lazio      2146                  3697   \n",
       "5782 2020-11-25                Liguria      2308                  1238   \n",
       "5783 2020-11-25              Lombardia     21005                  9056   \n",
       "5784 2020-11-25                 Marche      1211                   672   \n",
       "5785 2020-11-25                 Molise        99                    76   \n",
       "5786 2020-11-25           P.A. Bolzano       498                   483   \n",
       "5787 2020-11-25            P.A. Trento       606                   462   \n",
       "5788 2020-11-25               Piemonte      5803                  5498   \n",
       "5789 2020-11-25                 Puglia      1302                  1693   \n",
       "5790 2020-11-25               Sardegna       413                   591   \n",
       "5791 2020-11-25                Sicilia      1322                  1824   \n",
       "5792 2020-11-25                Toscana      2378                  2040   \n",
       "5793 2020-11-25                 Umbria       355                   431   \n",
       "5794 2020-11-25          Valle d'Aosta       297                   153   \n",
       "5795 2020-11-25                 Veneto      3429                  2727   \n",
       "\n",
       "      totale_casi  dimessi_guariti  tamponi  percentuale_guariti  \n",
       "5775        25445             7582   389766            29.797603  \n",
       "5776         7218             1218   144321            16.874480  \n",
       "5777        14859             4345   350996            29.241537  \n",
       "5778       143010            39428  1484741            27.570100  \n",
       "5779       112700            34681  2040254            30.772848  \n",
       "5780        26285            12034   679986            45.782766  \n",
       "5781       109592            20881  2092689            19.053398  \n",
       "5782        49381            33018   578449            66.863774  \n",
       "5783       386958           227924  3904809            58.901483  \n",
       "5784        27554            10312   398356            37.424693  \n",
       "5785         4177             1528    86418            36.581278  \n",
       "5786        21961             9863   300122            44.911434  \n",
       "5787        14547            11494   359553            79.012855  \n",
       "5788       156253            72529  1468297            46.417669  \n",
       "5789        47565            12192   742930            25.632293  \n",
       "5790        19639             6529   356555            33.245074  \n",
       "5791        57001            17359   911444            30.453852  \n",
       "5792        97976            46318  1494998            47.274843  \n",
       "5793        22478            12186   399810            54.213008  \n",
       "5794         6199             4219    56803            68.059364  \n",
       "5795       130076            51509  2714890            39.599157  "
      ]
     },
     "metadata": {},
     "output_type": "display_data"
    }
   ],
   "source": [
    "today = df_regions.loc[df_regions.data == df_regions.iloc[[-1]][\"data\"].item()]\n",
    "today = today[[\"data\", \"denominazione_regione\", \"deceduti\", \"totale_ospedalizzati\",\n",
    "               \"totale_casi\",\"dimessi_guariti\", \"tamponi\"]]\n",
    "today[\"percentuale_guariti\"] = today[\"dimessi_guariti\"] / today[\"totale_casi\"] * 100\n",
    "display(today)"
   ]
  },
  {
   "cell_type": "markdown",
   "metadata": {},
   "source": [
    "With pandas is possible to retrive statistics on column with the method of the class data frame so there is a little intuitive interactive code for made statistics for retrive the min or max region with field \"deceduti\" of the day or another field."
   ]
  },
  {
   "cell_type": "code",
   "execution_count": 165,
   "metadata": {},
   "outputs": [
    {
     "data": {
      "text/plain": [
       "data                     2020-11-25 00:00:00\n",
       "denominazione_regione                 Molise\n",
       "deceduti                                  99\n",
       "totale_ospedalizzati                      76\n",
       "totale_casi                             4177\n",
       "dimessi_guariti                         1528\n",
       "tamponi                                86418\n",
       "percentuale_guariti                  36.5813\n",
       "Name: 5785, dtype: object"
      ]
     },
     "metadata": {},
     "output_type": "display_data"
    }
   ],
   "source": [
    "# choose the parameters, column_name is the name of the statistics \n",
    "column_name = \"deceduti\"# EG: \"totale_ospedalizzati\",\"totale_casi\",\"dimessi_guariti\", \"tamponi\"\n",
    "operation = \"min\" # \"min\",\"max\" are the operation \n",
    "if operation==\"min\":\n",
    "    display(today.loc[today[column_name].idxmin()])\n",
    "elif operation==\"max\":\n",
    "    display(today.loc[today[column_name].idxmax()])"
   ]
  },
  {
   "cell_type": "markdown",
   "metadata": {},
   "source": [
    "With the sum function of pandas is possible to have the national statistics of COVID-19"
   ]
  },
  {
   "cell_type": "code",
   "execution_count": 166,
   "metadata": {},
   "outputs": [],
   "source": [
    "today.drop(columns=[\"denominazione_regione\", \"percentuale_guariti\"],inplace=True)"
   ]
  },
  {
   "cell_type": "code",
   "execution_count": 167,
   "metadata": {},
   "outputs": [
    {
     "data": {
      "text/plain": [
       "deceduti                   52028\n",
       "totale_ospedalizzati       38161\n",
       "totale_casi              1480874\n",
       "dimessi_guariti           637149\n",
       "tamponi                 20956187\n",
       "dtype: int64"
      ]
     },
     "execution_count": 167,
     "metadata": {},
     "output_type": "execute_result"
    }
   ],
   "source": [
    "today.sum(axis = 0, skipna = True)"
   ]
  },
  {
   "cell_type": "markdown",
   "metadata": {},
   "source": [
    "The emergency in Italy actually cuold be visualized with a pie chart that represent the percentage of how many victims the COVID-19 have made in relations of how many people are infected right now and are in hospital recovery and how may people have won this disease."
   ]
  },
  {
   "cell_type": "code",
   "execution_count": 168,
   "metadata": {},
   "outputs": [],
   "source": [
    "today.drop(columns=[\"data\",\"tamponi\",\"totale_casi\"],inplace=True)"
   ]
  },
  {
   "cell_type": "code",
   "execution_count": 169,
   "metadata": {},
   "outputs": [
    {
     "data": {
      "image/png": "[encoded data removed]",
      "text/plain": [
       "<Figure size 864x432 with 1 Axes>"
      ]
     },
     "metadata": {},
     "output_type": "display_data"
    }
   ],
   "source": [
    "ax = today.sum(axis = 0, skipna = True).plot.pie(title=\"Today percentage of cases gravity\",figsize=(12,6), autopct='%1.1f%%',\n",
    "        shadow=False, legend = False)\n",
    "ax.set_ylabel(None);"
   ]
  },
  {
   "cell_type": "markdown",
   "metadata": {},
   "source": [
    "Now the next step is display a simple graph that explain the total cases variation during the evolution of COVID-19 in Italy. We know commenti su marzo e adesso cosa fare ecc perchè"
   ]
  },
  {
   "cell_type": "code",
   "execution_count": 235,
   "metadata": {},
   "outputs": [
    {
     "data": {
      "image/png": "[encoded data removed]",
      "text/plain": [
       "<Figure size 864x432 with 1 Axes>"
      ]
     },
     "metadata": {
      "needs_background": "light"
     },
     "output_type": "display_data"
    }
   ],
   "source": [
    "# data manipulation\n",
    "# first chose the data to display and group by column \"data\" with week frequency\n",
    "data_to_plot = df_regions[[\"data\",\"totale_positivi\",\"totale_ospedalizzati\",\"deceduti\"]]\n",
    "data_to_plot = data_to_plot.groupby([\"data\"]).sum().asfreq(\"W\")\n",
    "\n",
    "# start plotting for this data i use the .plot() of pandas      \n",
    "ax = data_to_plot.plot(figsize=(12,6),title=\"Time evolution of COVID-19 in Italy\")\n",
    "ax.set_facecolor(\"#F0EBEA\")\n",
    "plt.gcf().autofmt_xdate()"
   ]
  },
  {
   "cell_type": "markdown",
   "metadata": {},
   "source": [
    "Another interesting graph is about to look at the severity of the disease in time, in fact we can say that in summer the situation is better than in the first time or now for example about the deats per weeks.\n",
    "\n",
    "fare discorso che splitta in due i grafici tra situa marzo e situa di adesso e dire che si puo modificare i campi"
   ]
  },
  {
   "cell_type": "code",
   "execution_count": 171,
   "metadata": {},
   "outputs": [
    {
     "data": {
      "image/png": "[encoded data removed]",
      "text/plain": [
       "<Figure size 864x432 with 1 Axes>"
      ]
     },
     "metadata": {
      "needs_background": "light"
     },
     "output_type": "display_data"
    }
   ],
   "source": [
    "# data manipulation\n",
    "\n",
    "# chose the data to display \n",
    "data_to_plot = df_regions[[\"data\",\"terapia_intensiva\",\"totale_ospedalizzati\",\"isolamento_domiciliare\"]]\n",
    "# focus on the first 3 months data<\"2020-06-01T18:00:00\" \n",
    "# data field can be changed for made different views\n",
    "data_to_plot = data_to_plot.loc[data_to_plot[\"data\"]<\"2020-06-01\"]\n",
    "# group by data with week frequency\n",
    "data_to_plot = data_to_plot.groupby([\"data\"]).sum().asfreq(\"W\")\n",
    "\n",
    "# start plotting for this data i use the .plot() of pandas      \n",
    "data_to_plot.plot.area(figsize=(12,6),title=\"Severity trend\",colormap=\"Pastel1\")\n",
    "plt.gcf().autofmt_xdate()"
   ]
  },
  {
   "cell_type": "code",
   "execution_count": 174,
   "metadata": {
    "scrolled": true
   },
   "outputs": [
    {
     "data": {
      "image/png": "[encoded data removed]",
      "text/plain": [
       "<Figure size 720x360 with 1 Axes>"
      ]
     },
     "metadata": {
      "needs_background": "light"
     },
     "output_type": "display_data"
    }
   ],
   "source": [
    "# data manipulation\n",
    "# this flag is for display the home isolation of last period\n",
    "# i set false because there are so much cases in home and this fact gave us a unreadable graph \n",
    "home_isolation = False # U CAN CHANGE IT\n",
    "# chose the data to display\n",
    "if home_isolation:\n",
    "    data_to_plot = df_regions[[\"data\",\"terapia_intensiva\",\"totale_ospedalizzati\",\"isolamento_domiciliare\"]]\n",
    "else:\n",
    "    data_to_plot = df_regions[[\"data\",\"terapia_intensiva\",\"totale_ospedalizzati\"]]\n",
    "# focus on the last 2 months data>2020-10-01T18:00:00\n",
    "# data field can be changed for made different views\n",
    "\n",
    "data_to_plot = data_to_plot.loc[data_to_plot[\"data\"]>\"2020-10-01\"]\n",
    "# group by data with week frequency\n",
    "data_to_plot = data_to_plot.groupby([\"data\"]).sum().asfreq(\"W\")\n",
    "\n",
    "# start plotting for this data i use the .plot() of pandas      \n",
    "data_to_plot.plot.area(figsize=(10,5),title=\"Severity trend\",colormap=\"Pastel1\")\n",
    "plt.gcf().autofmt_xdate()"
   ]
  },
  {
   "cell_type": "markdown",
   "metadata": {},
   "source": [
    "discorso su positivi del giorno diviso tamponi per giorno e sul calcolare colonne aggregata"
   ]
  },
  {
   "cell_type": "code",
   "execution_count": 175,
   "metadata": {},
   "outputs": [
    {
     "name": "stdout",
     "output_type": "stream",
     "text": [
      "Number of region:  21\n"
     ]
    }
   ],
   "source": [
    "# data manipulation\n",
    "\n",
    "NUMERO_REGIONI = df_regions.denominazione_regione.unique().shape[0]\n",
    "print(\"Number of region: \", NUMERO_REGIONI)\n",
    "tamponi_per_giorno = []\n",
    "old_value_tamp = dict()\n",
    "\n",
    "for row in df_regions.itertuples():\n",
    "    # \n",
    "    if row.denominazione_regione in old_value_tamp.keys():\n",
    "        tamponi_per_giorno.append(row.tamponi - old_value_tamp[row.denominazione_regione])\n",
    "    else:\n",
    "        tamponi_per_giorno.append(row.tamponi)\n",
    "        \n",
    "    old_value_tamp[row.denominazione_regione] = row.tamponi\n",
    "    #print(\"Data: \", row.data, \" --- Old caso tamponi: \", row.tamponi)\n",
    "    \n",
    "df_regions[\"tamponi_per_giorno\"] = tamponi_per_giorno\n",
    "\n",
    "new_values = []\n",
    "flags = []\n",
    "index = 0\n",
    "aux_list = []\n",
    "for pos, tamp in zip(df_regions.nuovi_positivi, df_regions.tamponi_per_giorno):\n",
    "    index += 1\n",
    "    if (pos <= 0 or tamp <= 0):\n",
    "        # is not a good value, i use flag = false for indicate that this row is not good and i discard later\n",
    "        flags.append(False)\n",
    "        NUMERO_REGIONI -= 1 # -one region per day cause i discard the row\n",
    "    else:\n",
    "        flags.append(True) #if is goog i append the pos*100/tamp\n",
    "        aux_list.append((pos * 100) / (tamp))\n",
    "        \n",
    "    # if index%21 == 0 i have save the data of all regions for one date so i append in the real data\n",
    "    if index % 21 == 0:\n",
    "        for a in aux_list:\n",
    "            new_values.append(a/NUMERO_REGIONI) # divided for the num reg modified because i discard some rows\n",
    "        aux_list = []\n",
    "        NUMERO_REGIONI = df_regions.denominazione_regione.unique().shape[0] #reset original number of region\n"
   ]
  },
  {
   "cell_type": "code",
   "execution_count": 234,
   "metadata": {},
   "outputs": [
    {
     "data": {
      "image/png": "[encoded data removed]",
      "text/plain": [
       "<Figure size 864x432 with 1 Axes>"
      ]
     },
     "metadata": {
      "needs_background": "light"
     },
     "output_type": "display_data"
    }
   ],
   "source": [
    "# data manipulation \n",
    "data_to_plot = df_regions[[\"data\"]]\n",
    "data_to_plot = data_to_plot.loc[flags] # remove rows with bad value\n",
    "data_to_plot[\"New_Cases_On_Tested\"] = new_values # insert new good values\n",
    "\n",
    "\n",
    "data_to_plot = data_to_plot.loc[data_to_plot[\"data\"]<\"2020-06-01T18:00:00\"]\n",
    "data_to_plot = data_to_plot.groupby([\"data\"]).sum()#.asfreq(\"W\")\n",
    "\n",
    "# start plotting for this data i use the .plot() of pandas      \n",
    "ax = data_to_plot.plot(kind='line',figsize=(12,6),title=\"New cases/ tested\")\n",
    "ax.set_facecolor(\"#F0EBEA\")\n",
    "ax.set_ylabel(\"Percentage\")\n",
    "plt.gcf().autofmt_xdate()"
   ]
  },
  {
   "cell_type": "markdown",
   "metadata": {},
   "source": [
    "scrivere del indice degli ultimi 2 mesi della situa che stà tornano"
   ]
  },
  {
   "cell_type": "code",
   "execution_count": 233,
   "metadata": {},
   "outputs": [
    {
     "data": {
      "image/png": "[encoded data removed]",
      "text/plain": [
       "<Figure size 864x432 with 1 Axes>"
      ]
     },
     "metadata": {
      "needs_background": "light"
     },
     "output_type": "display_data"
    }
   ],
   "source": [
    "# data manipulation \n",
    "data_to_plot = df_regions[[\"data\"]]\n",
    "data_to_plot = data_to_plot.loc[flags] # remove rows with bad value\n",
    "data_to_plot[\"New_Cases_On_Tested\"] = new_values # insert new good values\n",
    "\n",
    "data_to_plot = data_to_plot.loc[data_to_plot[\"data\"]>\"2020-09-01T18:00:00\"]\n",
    "data_to_plot = data_to_plot.groupby([\"data\"]).sum()#.asfreq(\"W\")\n",
    "\n",
    "# start plotting for this data i use the .plot() of pandas      \n",
    "ax = data_to_plot.plot(kind='line',figsize=(12,6),title=\"New cases/ tested\")\n",
    "ax.set_facecolor(\"#F0EBEA\")\n",
    "ax.set_ylabel(\"Percentage\")\n",
    "plt.gcf().autofmt_xdate()"
   ]
  },
  {
   "cell_type": "markdown",
   "metadata": {},
   "source": [
    "## Provinces analysis\n",
    "\n",
    "Let's use the province json file fom made a ranking of the most affective provinces."
   ]
  },
  {
   "cell_type": "code",
   "execution_count": 240,
   "metadata": {},
   "outputs": [],
   "source": [
    "NUM_OF_PROVINCES = 5 # u can change it"
   ]
  },
  {
   "cell_type": "code",
   "execution_count": 241,
   "metadata": {},
   "outputs": [
    {
     "data": {
      "text/plain": [
       "Text(0.5, 1.0, 'Top 5 provinces with most cases')"
      ]
     },
     "execution_count": 241,
     "metadata": {},
     "output_type": "execute_result"
    },
    {
     "data": {
      "image/png": "[encoded data removed]",
      "text/plain": [
       "<Figure size 432x288 with 1 Axes>"
      ]
     },
     "metadata": {
      "needs_background": "light"
     },
     "output_type": "display_data"
    }
   ],
   "source": [
    "data_to_plot = df_provinces[[\"denominazione_provincia\",\"totale_casi\"]]\n",
    "\n",
    "ax = data_to_plot.groupby([\"denominazione_provincia\"]).max().nlargest(NUM_OF_PROVINCES, \"totale_casi\").plot(kind=\"barh\")\n",
    "ax.set_ylabel(\"\")\n",
    "ax.set_facecolor(\"#F0EBEA\")\n",
    "plt.title(\"Top \"+ str(NUM_OF_PROVINCES) + \" provinces with most cases\")"
   ]
  },
  {
   "cell_type": "markdown",
   "metadata": {},
   "source": [
    "Now i want to see the evolution in time of the most affected provinces"
   ]
  },
  {
   "cell_type": "code",
   "execution_count": 242,
   "metadata": {
    "scrolled": true
   },
   "outputs": [
    {
     "data": {
      "image/png": "[encoded data removed]",
      "text/plain": [
       "<Figure size 864x288 with 1 Axes>"
      ]
     },
     "metadata": {
      "needs_background": "light"
     },
     "output_type": "display_data"
    }
   ],
   "source": [
    "data_to_plot = df_provinces[[\"denominazione_provincia\",\"totale_casi\"]]\n",
    "aux_df = data_to_plot.groupby([\"denominazione_provincia\"]).max().nlargest(NUM_OF_PROVINCES, \"totale_casi\")\n",
    "nomi_province = list(aux_df.index) #print(nomi_province) #create a list with the max affected provinces\n",
    "\n",
    "# select only the rows with most affected provinces\n",
    "df_plot = df_provinces.loc[df_provinces.denominazione_provincia.isin(nomi_province)]\n",
    "df_plot = df_plot.groupby(['denominazione_provincia', pd.Grouper(key='data', freq='W-MON')])['totale_casi'].sum().reset_index()\n",
    "\n",
    "# start plotting using matplotlib\n",
    "fig, ax = plt.subplots(1, 1, figsize=(12,4))\n",
    "for reg in nomi_province:\n",
    "    aux = df_plot.loc[df_plot.denominazione_provincia == reg]\n",
    "    plt.plot(aux[\"data\"][:-1], aux[\"totale_casi\"][:-1], label=reg)\n",
    "\n",
    "fig.suptitle(\"Evololution of COVID in top \" + str(NUM_OF_PROVINCES)+ \" provinces\")\n",
    "plt.xlabel('Time')\n",
    "plt.ylabel('Cases')\n",
    "ax.set_facecolor(\"#F0EBEA\")\n",
    "plt.legend()\n",
    "plt.show()"
   ]
  },
  {
   "cell_type": "markdown",
   "metadata": {},
   "source": [
    "Now is interesting to see how to merge the information of regions and provinces to make much detailed statistichs.\n",
    "Only the total cases data are correlated in the two data frame but this can allow us to made some graph about this correlation and show an evolution with the date."
   ]
  },
  {
   "cell_type": "code",
   "execution_count": 243,
   "metadata": {},
   "outputs": [
    {
     "data": {
      "text/html": [
       "<div>\n",
       "<style scoped>\n",
       "    .dataframe tbody tr th:only-of-type {\n",
       "        vertical-align: middle;\n",
       "    }\n",
       "\n",
       "    .dataframe tbody tr th {\n",
       "        vertical-align: top;\n",
       "    }\n",
       "\n",
       "    .dataframe thead th {\n",
       "        text-align: right;\n",
       "    }\n",
       "</style>\n",
       "<table border=\"1\" class=\"dataframe\">\n",
       "  <thead>\n",
       "    <tr style=\"text-align: right;\">\n",
       "      <th></th>\n",
       "      <th>data</th>\n",
       "      <th>denominazione_regione</th>\n",
       "      <th>totale_casi_x</th>\n",
       "      <th>codice_regione</th>\n",
       "      <th>denominazione_provincia</th>\n",
       "      <th>totale_casi_y</th>\n",
       "      <th>codice_provincia</th>\n",
       "      <th>lat</th>\n",
       "      <th>long</th>\n",
       "    </tr>\n",
       "  </thead>\n",
       "  <tbody>\n",
       "    <tr>\n",
       "      <th>0</th>\n",
       "      <td>2020-02-24</td>\n",
       "      <td>Abruzzo</td>\n",
       "      <td>0</td>\n",
       "      <td>13</td>\n",
       "      <td>L'Aquila</td>\n",
       "      <td>0</td>\n",
       "      <td>66</td>\n",
       "      <td>42.351222</td>\n",
       "      <td>13.398438</td>\n",
       "    </tr>\n",
       "  </tbody>\n",
       "</table>\n",
       "</div>"
      ],
      "text/plain": [
       "        data denominazione_regione  totale_casi_x  codice_regione  \\\n",
       "0 2020-02-24               Abruzzo              0              13   \n",
       "\n",
       "  denominazione_provincia  totale_casi_y  codice_provincia        lat  \\\n",
       "0                L'Aquila              0                66  42.351222   \n",
       "\n",
       "        long  \n",
       "0  13.398438  "
      ]
     },
     "execution_count": 243,
     "metadata": {},
     "output_type": "execute_result"
    }
   ],
   "source": [
    "# select the information from the two dataframe\n",
    "data_from_regions = df_regions[[\"data\", \"denominazione_regione\", \"totale_casi\",\"codice_regione\"]]\n",
    "data_from_provinces = df_provinces[[\"data\", \"denominazione_regione\", \"denominazione_provincia\",\n",
    "                                    \"totale_casi\",\"codice_provincia\",\"lat\",\"long\"]]\n",
    "\n",
    "merged = pd.merge(data_from_regions, data_from_provinces, on=[\"denominazione_regione\", \"data\"])\n",
    "#eliminare righe con in denominazione_provincia = In fase di definizione/aggiornamento\n",
    "merged.head(1)"
   ]
  },
  {
   "cell_type": "code",
   "execution_count": 244,
   "metadata": {},
   "outputs": [
    {
     "data": {
      "text/html": [
       "<div>\n",
       "<style scoped>\n",
       "    .dataframe tbody tr th:only-of-type {\n",
       "        vertical-align: middle;\n",
       "    }\n",
       "\n",
       "    .dataframe tbody tr th {\n",
       "        vertical-align: top;\n",
       "    }\n",
       "\n",
       "    .dataframe thead th {\n",
       "        text-align: right;\n",
       "    }\n",
       "</style>\n",
       "<table border=\"1\" class=\"dataframe\">\n",
       "  <thead>\n",
       "    <tr style=\"text-align: right;\">\n",
       "      <th></th>\n",
       "      <th>data</th>\n",
       "      <th>denominazione_regione</th>\n",
       "      <th>totale_casi_regione</th>\n",
       "      <th>cod_istat_regione</th>\n",
       "      <th>denominazione_provincia</th>\n",
       "      <th>totale_casi_provincia</th>\n",
       "      <th>cod_istat_prov</th>\n",
       "      <th>lat_prov</th>\n",
       "      <th>long_prov</th>\n",
       "    </tr>\n",
       "  </thead>\n",
       "  <tbody>\n",
       "    <tr>\n",
       "      <th>0</th>\n",
       "      <td>2020-02-24</td>\n",
       "      <td>Abruzzo</td>\n",
       "      <td>0</td>\n",
       "      <td>13</td>\n",
       "      <td>L'Aquila</td>\n",
       "      <td>0</td>\n",
       "      <td>66</td>\n",
       "      <td>42.351222</td>\n",
       "      <td>13.398438</td>\n",
       "    </tr>\n",
       "  </tbody>\n",
       "</table>\n",
       "</div>"
      ],
      "text/plain": [
       "        data denominazione_regione  totale_casi_regione  cod_istat_regione  \\\n",
       "0 2020-02-24               Abruzzo                    0                 13   \n",
       "\n",
       "  denominazione_provincia  totale_casi_provincia  cod_istat_prov   lat_prov  \\\n",
       "0                L'Aquila                      0              66  42.351222   \n",
       "\n",
       "   long_prov  \n",
       "0  13.398438  "
      ]
     },
     "execution_count": 244,
     "metadata": {},
     "output_type": "execute_result"
    }
   ],
   "source": [
    "# rename the column of merged information\n",
    "merged.columns = [\"data\", \"denominazione_regione\",\"totale_casi_regione\", \"cod_istat_regione\",\n",
    "                  \"denominazione_provincia\", \"totale_casi_provincia\", \"cod_istat_prov\",\n",
    "                  \"lat_prov\", \"long_prov\"]\n",
    "merged.head(1)"
   ]
  },
  {
   "cell_type": "markdown",
   "metadata": {},
   "source": [
    "Now i have made the dataframe merged for do new statistics with heatmap and geopandas"
   ]
  },
  {
   "cell_type": "code",
   "execution_count": 245,
   "metadata": {},
   "outputs": [],
   "source": [
    "# made a safe copy for plotting\n",
    "data_to_plot = merged.copy()\n",
    "# set denominazione regione and data as multi index\n",
    "data_to_plot.set_index([\"denominazione_regione\", \"data\"], inplace=True)"
   ]
  },
  {
   "cell_type": "code",
   "execution_count": null,
   "metadata": {},
   "outputs": [],
   "source": []
  },
  {
   "cell_type": "markdown",
   "metadata": {},
   "source": [
    "## Heatmap visualizations"
   ]
  },
  {
   "cell_type": "code",
   "execution_count": 106,
   "metadata": {},
   "outputs": [],
   "source": [
    "# it_reg_geo = 'geojson-italy/geojson/limits_IT_regions.geojson'\n",
    "\n",
    "# map_reg_df = gpd.read_file(it_reg_geo)\n",
    "# region_map = map_reg_df\n",
    "# #display(region_map)\n",
    "\n",
    "# df_regions['tasso_mortalità'] = df_regions['deceduti'] / df_regions['totale_casi'] * 100\n",
    "# dF_death_rate_reg = df_regions[['denominazione_regione', 'tasso_mortalità', 'codice_regione']].tail(22)\n",
    "# dF_death_rate_reg.loc[dF_death_rate_reg['codice_regione'] == 22, 'codice_regione'] = 4\n",
    "# merged_reg = pd.merge(region_map, dF_death_rate_reg,  left_on=  ['reg_istat_code_num'],\n",
    "#                    right_on= ['codice_regione'])\n",
    "# merged_reg.head(50)\n",
    "# death_rate_col = 'tasso_mortalità'\n",
    "# fig9, ax9 = plt.subplots(1, figsize=(10, 20))\n",
    "# #ax9.axis(\"off\")\n",
    "# ax9.set_title(\"Death rate due to COVID-19 per Region Area in Italy\", fontdict={\"fontsize\": \"16\", \"fontweight\" : \"3\"})\n",
    "# v_min, v_max = dF_death_rate_reg[['tasso_mortalità']].min()[0], dF_death_rate_reg[['tasso_mortalità']].max()[0]\n",
    "# sm = plt.cm.ScalarMappable(cmap=\"Reds\", norm=plt.Normalize(vmin=v_min, vmax=v_max))\n",
    "# sm._A = []\n",
    "# # # divider2 = make_axes_locatable(ax9)\n",
    "# # # cax = divider2.append_axes(\"right\", size=\"5%\", pad=0.1)\n",
    "# # # cbar2 = fig9.colorbar(sm, cax=cax)\n",
    "# merged_reg.plot(column=death_rate_col, cmap=\"Reds\", linewidth=0.8, ax=ax9, edgecolor=\"0.8\")"
   ]
  },
  {
   "cell_type": "markdown",
   "metadata": {},
   "source": [
    "## Extra: Let's do some Machine Learning on data"
   ]
  },
  {
   "cell_type": "code",
   "execution_count": 107,
   "metadata": {},
   "outputs": [],
   "source": [
    "# pensare a come fare in fondo una roba tipo knn per creare le tre zone gialla arancio e rossa\n",
    "\n",
    "#raggruppo la tabella per settimane e funziona\n",
    "# df_regions['data'] = pd.to_datetime(df_regions['data']) - pd.to_timedelta(7, unit='d')\n",
    "# df_regions = df_regions.groupby(['denominazione_regione', pd.Grouper(key='data', freq='W-MON')])['ricoverati_con_sintomi','terapia_intensiva'].sum().reset_index().sort_values('data')\n",
    "# print (df_regions)\n",
    "#metto sklearn fo knn e poi penso a come fare i grafici?"
   ]
  },
  {
   "cell_type": "code",
   "execution_count": null,
   "metadata": {},
   "outputs": [],
   "source": []
  },
  {
   "cell_type": "code",
   "execution_count": null,
   "metadata": {},
   "outputs": [],
   "source": []
  },
  {
   "cell_type": "code",
   "execution_count": null,
   "metadata": {},
   "outputs": [],
   "source": []
  },
  {
   "cell_type": "code",
   "execution_count": null,
   "metadata": {},
   "outputs": [],
   "source": []
  },
  {
   "cell_type": "code",
   "execution_count": null,
   "metadata": {},
   "outputs": [],
   "source": []
  }
 ],
 "metadata": {
  "kernelspec": {
   "display_name": "Python 3",
   "language": "python",
   "name": "python3"
  },
  "language_info": {
   "codemirror_mode": {
    "name": "ipython",
    "version": 3
   },
   "file_extension": ".py",
   "mimetype": "text/x-python",
   "name": "python",
   "nbconvert_exporter": "python",
   "pygments_lexer": "ipython3",
   "version": "3.8.3"
  }
 },
 "nbformat": 4,
 "nbformat_minor": 4
}
